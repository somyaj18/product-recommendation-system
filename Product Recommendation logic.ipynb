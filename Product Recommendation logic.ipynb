{
 "cells": [
  {
   "cell_type": "code",
   "execution_count": 5,
   "id": "3fee2a7a-2995-41af-880b-b9d803b1bdb7",
   "metadata": {},
   "outputs": [
    {
     "name": "stdout",
     "output_type": "stream",
     "text": [
      "Collecting neo4j\n",
      "  Using cached neo4j-5.28.1-py3-none-any.whl.metadata (5.9 kB)\n",
      "Requirement already satisfied: pytz in c:\\users\\hp\\anaconda3\\lib\\site-packages (from neo4j) (2024.1)\n",
      "Using cached neo4j-5.28.1-py3-none-any.whl (312 kB)\n",
      "Installing collected packages: neo4j\n",
      "Successfully installed neo4j-5.28.1\n"
     ]
    }
   ],
   "source": [
    "!pip install neo4j"
   ]
  },
  {
   "cell_type": "code",
   "execution_count": 7,
   "id": "2fe3b742-e601-48ee-b496-637b4d5aa948",
   "metadata": {},
   "outputs": [],
   "source": [
    "import pandas as pd\n",
    "from sklearn.feature_extraction.text import TfidfVectorizer\n",
    "from sklearn.metrics.pairwise import cosine_similarity\n",
    "from neo4j import GraphDatabase"
   ]
  },
  {
   "cell_type": "code",
   "execution_count": 9,
   "id": "3618b825-d664-4c22-893d-26ba17995ecf",
   "metadata": {},
   "outputs": [],
   "source": [
    "df = pd.read_csv(\"filtered_amazon_data.csv\")"
   ]
  },
  {
   "cell_type": "code",
   "execution_count": 13,
   "id": "df151fc0-d402-461e-9b86-18b381f48977",
   "metadata": {},
   "outputs": [
    {
     "data": {
      "text/html": [
       "<div>\n",
       "<style scoped>\n",
       "    .dataframe tbody tr th:only-of-type {\n",
       "        vertical-align: middle;\n",
       "    }\n",
       "\n",
       "    .dataframe tbody tr th {\n",
       "        vertical-align: top;\n",
       "    }\n",
       "\n",
       "    .dataframe thead th {\n",
       "        text-align: right;\n",
       "    }\n",
       "</style>\n",
       "<table border=\"1\" class=\"dataframe\">\n",
       "  <thead>\n",
       "    <tr style=\"text-align: right;\">\n",
       "      <th></th>\n",
       "      <th>product_id</th>\n",
       "      <th>product_name</th>\n",
       "      <th>category</th>\n",
       "      <th>about_product</th>\n",
       "      <th>review_content</th>\n",
       "      <th>about_product_cleaned</th>\n",
       "      <th>review_content_cleaned</th>\n",
       "    </tr>\n",
       "  </thead>\n",
       "  <tbody>\n",
       "    <tr>\n",
       "      <th>0</th>\n",
       "      <td>B07JW9H4J1</td>\n",
       "      <td>Wayona Nylon Braided USB to Lightning Fast Cha...</td>\n",
       "      <td>Computers&amp;Accessories|Accessories&amp;Peripherals|...</td>\n",
       "      <td>High Compatibility : Compatible With iPhone 12...</td>\n",
       "      <td>Looks durable Charging is fine tooNo complains...</td>\n",
       "      <td>high  compatibility  compatible  iphone  12  1...</td>\n",
       "      <td>looks  durable  charging  fine  toono  complai...</td>\n",
       "    </tr>\n",
       "    <tr>\n",
       "      <th>1</th>\n",
       "      <td>B098NS6PVG</td>\n",
       "      <td>Ambrane Unbreakable 60W / 3A Fast Charging 1.5...</td>\n",
       "      <td>Computers&amp;Accessories|Accessories&amp;Peripherals|...</td>\n",
       "      <td>Compatible with all Type C enabled devices, be...</td>\n",
       "      <td>I ordered this cable to connect my phone to An...</td>\n",
       "      <td>compatible  type  c  enabled  devices  android...</td>\n",
       "      <td>ordered  cable  connect  phone  android  auto ...</td>\n",
       "    </tr>\n",
       "  </tbody>\n",
       "</table>\n",
       "</div>"
      ],
      "text/plain": [
       "   product_id                                       product_name  \\\n",
       "0  B07JW9H4J1  Wayona Nylon Braided USB to Lightning Fast Cha...   \n",
       "1  B098NS6PVG  Ambrane Unbreakable 60W / 3A Fast Charging 1.5...   \n",
       "\n",
       "                                            category  \\\n",
       "0  Computers&Accessories|Accessories&Peripherals|...   \n",
       "1  Computers&Accessories|Accessories&Peripherals|...   \n",
       "\n",
       "                                       about_product  \\\n",
       "0  High Compatibility : Compatible With iPhone 12...   \n",
       "1  Compatible with all Type C enabled devices, be...   \n",
       "\n",
       "                                      review_content  \\\n",
       "0  Looks durable Charging is fine tooNo complains...   \n",
       "1  I ordered this cable to connect my phone to An...   \n",
       "\n",
       "                               about_product_cleaned  \\\n",
       "0  high  compatibility  compatible  iphone  12  1...   \n",
       "1  compatible  type  c  enabled  devices  android...   \n",
       "\n",
       "                              review_content_cleaned  \n",
       "0  looks  durable  charging  fine  toono  complai...  \n",
       "1  ordered  cable  connect  phone  android  auto ...  "
      ]
     },
     "execution_count": 13,
     "metadata": {},
     "output_type": "execute_result"
    }
   ],
   "source": [
    "df.head(2)"
   ]
  },
  {
   "cell_type": "code",
   "execution_count": 15,
   "id": "4d89781c-b0dd-4293-a843-866a832b245d",
   "metadata": {},
   "outputs": [],
   "source": [
    "df = df.dropna(subset=[\"about_product_cleaned\"])"
   ]
  },
  {
   "cell_type": "code",
   "execution_count": 17,
   "id": "5313eb6c-b1b8-4749-b384-e6cd5d1a754e",
   "metadata": {},
   "outputs": [],
   "source": [
    "# TF-IDF Vectorization\n",
    "vectorizer = TfidfVectorizer(stop_words=\"english\")\n",
    "tfidf_matrix = vectorizer.fit_transform(df[\"about_product_cleaned\"])\n"
   ]
  },
  {
   "cell_type": "code",
   "execution_count": 19,
   "id": "6c1fbe1b-b922-4ef9-99f6-cf087d190cc2",
   "metadata": {},
   "outputs": [],
   "source": [
    "#Compute Cosine Similarity\n",
    "cosine_sim = cosine_similarity(tfidf_matrix)"
   ]
  },
  {
   "cell_type": "code",
   "execution_count": 21,
   "id": "49e245db-6d9e-4125-ab58-4c4fb077f0ba",
   "metadata": {},
   "outputs": [],
   "source": [
    "#Create Product ID to Index Mapping\n",
    "product_indices = pd.Series(df.index, index=df[\"product_id\"]).drop_duplicates()\n"
   ]
  },
  {
   "cell_type": "code",
   "execution_count": 39,
   "id": "788050bd-5b45-4c22-9680-09bd26805ec9",
   "metadata": {},
   "outputs": [],
   "source": [
    "# Define a Recommendation Function\n",
    "def get_similar_products(product_id, top_n=5):\n",
    "    if product_id not in product_indices:\n",
    "        return []\n",
    "\n",
    "    idx = product_indices[product_id]  # Get product index\n",
    "    sim_scores = list(enumerate(cosine_sim[idx, :].tolist()))  # Convert to list\n",
    "    sim_scores = sorted(sim_scores, key=lambda x: x[1], reverse=True)  # Sort by similarity\n",
    "\n",
    "    top_products = [df[\"product_id\"].iloc[i[0]] for i in sim_scores[1:top_n+1]]\n",
    "    return top_products"
   ]
  },
  {
   "cell_type": "code",
   "execution_count": 41,
   "id": "6b03b956-3475-4e13-906d-94231099f27a",
   "metadata": {},
   "outputs": [
    {
     "name": "stdout",
     "output_type": "stream",
     "text": [
      "(1465, 1465)\n"
     ]
    }
   ],
   "source": [
    "print(cosine_sim.shape) "
   ]
  },
  {
   "cell_type": "code",
   "execution_count": 47,
   "id": "6d744c41-e072-4f9d-ac44-a23b2fca139e",
   "metadata": {},
   "outputs": [
    {
     "name": "stdout",
     "output_type": "stream",
     "text": [
      "Recommended Products: ['B098NS6PVG', 'B096MSW6CT']\n"
     ]
    }
   ],
   "source": [
    "# Test Recommendation Function\n",
    "recommended_products=get_similar_products(\"B07JW9H4J1\")\n",
    "print(\"Recommended Products:\",recommended_products)"
   ]
  },
  {
   "cell_type": "code",
   "execution_count": 51,
   "id": "5f76161f-766d-4f86-a597-065844fbfc29",
   "metadata": {},
   "outputs": [
    {
     "name": "stdout",
     "output_type": "stream",
     "text": [
      "[{'product_name': 'Ambrane Unbreakable 60W / 3A Fast Charging 1.5m Braided Type C Cable for Smartphones, Tablets, Laptops & other Type C devices, PD Technology, 480Mbps Data Sync, Quick Charge 3.0 (RCT15A, Black)', 'about_product_cleaned': 'compatible  type  c  enabled  devices  android  smartphone  mi  samsung  oppo  vivo  realme  oneplus  etc  tablet  laptop  macbook  chromebook  etc  supports  quick  charging  2  0  3  0  unbreakable  made  special  braided  outer  rugged  interior  bindings  ultra  durable  cable  affected  daily  rough  usage  ideal  length  ideal  length  1  5  meters  neither  short  like  typical  1meter  cable  long  like  2meters  cable  supports  maximum  3a  fast  charging  480  mbps  data  transfer  speed  6  months  manufacturer  warranty  date  purchase'}, {'product_name': 'Ambrane Unbreakable 60W / 3A Fast Charging 1.5m Braided Type C Cable for Smartphones, Tablets, Laptops & other Type C devices, PD Technology, 480Mbps Data Sync, Quick Charge 3.0 (RCT15A, Black)', 'about_product_cleaned': 'compatible  type  c  enabled  devices  android  smartphone  mi  samsung  oppo  vivo  realme  oneplus  etc  tablet  laptop  macbook  chromebook  etc  supports  quick  charging  2  0  3  0  unbreakable  made  special  braided  outer  rugged  interior  bindings  ultra  durable  cable  affected  daily  rough  usage  ideal  length  ideal  length  1  5  meters  neither  short  like  typical  1meter  cable  long  like  2meters  cable  supports  maximum  3a  fast  charging  480  mbps  data  transfer  speed  6  months  manufacturer  warranty  date  purchase'}, {'product_name': 'Ambrane Unbreakable 60W / 3A Fast Charging 1.5m Braided Type C Cable for Smartphones, Tablets, Laptops & other Type C devices, PD Technology, 480Mbps Data Sync, Quick Charge 3.0 (RCT15A, Black)', 'about_product_cleaned': 'compatible  type  c  enabled  devices  android  smartphone  mi  samsung  oppo  vivo  realme  oneplus  etc  tablet  laptop  macbook  chromebook  etc  supports  quick  charging  2  0  3  0  unbreakable  made  special  braided  outer  rugged  interior  bindings  ultra  durable  cable  affected  daily  rough  usage  ideal  length  ideal  length  1  5  meters  neither  short  like  typical  1meter  cable  long  like  2meters  cable  supports  maximum  3a  fast  charging  480  mbps  data  transfer  speed  6  months  manufacturer  warranty  date  purchase'}]\n",
      "[{'product_name': 'Sounce Fast Phone Charging Cable & Data Sync USB Cable Compatible for iPhone 13, 12,11, X, 8, 7, 6, 5, iPad Air, Pro, Mini & iOS Devices', 'about_product_cleaned': 'fast  charger  data  sync  built  safety  proctections  four  core  copper  wires  promote  maximum  signal  quality  strength  enhance  charging  data  transfer  speed  480  mb  transferring  speed  compatibility  compatible  iphone  13  12  11  x  8  7  6  5  ipad  air  pro  mini  ios  devices  sturdy  durable  jacket  enforced  connector  made  tpe  premium  copper  resistant  repeatedly  bending  coiling  ultra  high  quality  according  experimental  results  fishbone  design  accept  least  20  000  bending  insertion  tests  extra  protection  durability  upgraded  3d  aluminum  connector  exclusive  laser  welding  technology  ensure  metal  part  break  also  tighter  connection  fits  well  even  protective  case  never  loose  connection  good  sales  service  friendly  reliable  customer  service  respond  within  24  hours  purchase  confidence  every  sale  includes  365  day  worry  free  service  prove  importance  set  quality'}, {'product_name': 'Sounce Fast Phone Charging Cable & Data Sync USB Cable Compatible for iPhone 13, 12,11, X, 8, 7, 6, 5, iPad Air, Pro, Mini & iOS Devices', 'about_product_cleaned': 'fast  charger  data  sync  built  safety  proctections  four  core  copper  wires  promote  maximum  signal  quality  strength  enhance  charging  data  transfer  speed  480  mb  transferring  speed  sturdy  durable  jacket  enforced  connector  made  tpe  premium  copper  resistant  repeatedly  bending  coiling  ultra  high  quality  according  experimental  results  fishbone  design  accept  least  20  000  bending  insertion  tests  extra  protection  durability  upgraded  3d  aluminum  connector  exclusive  laser  welding  technology  ensure  metal  part  break  also  tighter  connection  fits  well  even  protective  case  never  loose  connection  good  sales  service  friendly  reliable  customer  service  respond  within  24  hours  purchase  confidence  every  sale  includes  365  day  worry  free  service  prove  importance  set  quality'}, {'product_name': 'Sounce Fast Phone Charging Cable & Data Sync USB Cable Compatible for iPhone 13, 12,11, X, 8, 7, 6, 5, iPad Air, Pro, Mini & iOS Devices', 'about_product_cleaned': 'fast  charger  data  sync  built  safety  proctections  four  core  copper  wires  promote  maximum  signal  quality  strength  enhance  charging  data  transfer  speed  480  mb  transferring  speed  compatibility  compatible  iphone  13  12  11  x  8  7  6  5  ipad  air  pro  mini  ios  devices  sturdy  durable  jacket  enforced  connector  made  tpe  premium  copper  resistant  repeatedly  bending  coiling  ultra  high  quality  according  experimental  results  fishbone  design  accept  least  20  000  bending  insertion  tests  extra  protection  durability  upgraded  3d  aluminum  connector  exclusive  laser  welding  technology  ensure  metal  part  break  also  tighter  connection  fits  well  even  protective  case  never  loose  connection  good  sales  service  friendly  reliable  customer  service  respond  within  24  hours  purchase  confidence  every  sale  includes  365  day  worry  free  service  prove  importance  set  quality'}]\n"
     ]
    }
   ],
   "source": [
    "def get_product_details(product_id):\n",
    "    product = df[df[\"product_id\"] == product_id]\n",
    "    if product.empty:\n",
    "        return \"Product Not Found\"\n",
    "    return product[[\"product_name\", \"about_product_cleaned\"]].to_dict(orient=\"records\")\n",
    "\n",
    "for prod_id in recommended_products:\n",
    "    print(get_product_details(prod_id))\n"
   ]
  },
  {
   "cell_type": "code",
   "execution_count": 76,
   "id": "b04bb1ad-8488-4d56-8a95-6c637f6e44e0",
   "metadata": {},
   "outputs": [],
   "source": [
    "class Neo4jConnection:\n",
    "    def __init__(self,url,user,password):\n",
    "        self.driver= GraphDatabase.driver(url,auth=(user,password))\n",
    "    def close(self):\n",
    "        self.driver.close()\n",
    "    def run_query(self,query,parameter):\n",
    "        with self.driver.session() as session:\n",
    "            return list(session.run(query,parameters=parameter))\n",
    ";\n",
    "db=Neo4jConnection(\"neo4j+s://3205dd99.databases.neo4j.io:7687\",\"neo4j\",\"bc_JiFacp8CDN1_cjqPsGox9PNprgu18yGVkTpRyLPA\")"
   ]
  },
  {
   "cell_type": "code",
   "execution_count": 82,
   "id": "fd05cc71-fc16-4e8a-93ff-f8b5248b8238",
   "metadata": {},
   "outputs": [
    {
     "name": "stdout",
     "output_type": "stream",
     "text": [
      "['B07JW1Y6XV', 'B07JGDB5M1', 'B07LGT55SJ', 'B07JH1C41D', 'B07JH1CBGW']\n"
     ]
    }
   ],
   "source": [
    "def get_similar_products_neo4j(product_id,top_n=5):\n",
    "    query=\"\"\"\n",
    "    MATCH (p:Product {product_id: $product_id})<-[:REVIEWS]-(r:Review)-[:REVIEWS]->(other:Product)\n",
    "    RETURN other.product_id AS recommended_product, COUNT(*) AS score\n",
    "    ORDER BY score DESC \n",
    "    LIMIT $top_n\n",
    "    \"\"\"\n",
    "    result=db.run_query(query,{\"product_id\":product_id,\"top_n\":top_n})\n",
    "    return[record[\"recommended_product\"] for record in result]\n",
    "           \n",
    "print(get_similar_products_neo4j(\"B07JW9H4J1\"))\n",
    "db.close()"
   ]
  },
  {
   "cell_type": "code",
   "execution_count": 84,
   "id": "1986e71f-35c6-48c5-913b-8df8d9ceb207",
   "metadata": {},
   "outputs": [
    {
     "name": "stderr",
     "output_type": "stream",
     "text": [
      "C:\\Users\\hp\\AppData\\Local\\Temp\\ipykernel_18648\\2565419854.py:7: DeprecationWarning: Using a driver after it has been closed is deprecated. Future versions of the driver will raise an error.\n",
      "  with self.driver.session() as session:\n"
     ]
    }
   ],
   "source": [
    "def store_recommendations_neo4j():\n",
    "    for product_id in df[\"product_id\"]:  # df = Your DataFrame with product IDs\n",
    "        similar_products = get_similar_products(product_id)  # Existing function (Pandas + Sklearn)\n",
    "        \n",
    "        for sim_product in similar_products:\n",
    "            query = \"\"\"\n",
    "            MATCH (p1:Product {product_id: $product_id})\n",
    "            MATCH (p2:Product {product_id: $sim_product})\n",
    "            MERGE (p1)-[:SIMILAR_TO]->(p2)\n",
    "            \"\"\"\n",
    "            db.run_query(query, {\"product_id\": product_id, \"sim_product\": sim_product})\n",
    "\n",
    "store_recommendations_neo4j()  #  Run this once to store recommendations in Neo4j\n"
   ]
  },
  {
   "cell_type": "code",
   "execution_count": 86,
   "id": "797f6af2-9b55-4060-8b85-7e6c7faab909",
   "metadata": {},
   "outputs": [
    {
     "name": "stderr",
     "output_type": "stream",
     "text": [
      "C:\\Users\\hp\\AppData\\Local\\Temp\\ipykernel_18648\\2565419854.py:7: DeprecationWarning: Using a driver after it has been closed is deprecated. Future versions of the driver will raise an error.\n",
      "  with self.driver.session() as session:\n"
     ]
    },
    {
     "name": "stdout",
     "output_type": "stream",
     "text": [
      "['B098NS6PVG', 'B096MSW6CT']\n"
     ]
    }
   ],
   "source": [
    "def get_recommendations_from_neo4j(product_id, top_n=5):\n",
    "    query = \"\"\"\n",
    "    MATCH (p:Product {product_id: $product_id})-[:SIMILAR_TO]->(rec:Product)\n",
    "    RETURN rec.product_id AS recommended_product\n",
    "    LIMIT $top_n\n",
    "    \"\"\"\n",
    "    result = db.run_query(query, {\"product_id\": product_id, \"top_n\": top_n})\n",
    "    return [record[\"recommended_product\"] for record in result]\n",
    "\n",
    "# Test Neo4j-Based Recommendation\n",
    "print(get_recommendations_from_neo4j(\"B07JW9H4J1\"))\n"
   ]
  },
  {
   "cell_type": "code",
   "execution_count": null,
   "id": "15e299e2-4dea-4c72-ae27-1d058bde8232",
   "metadata": {},
   "outputs": [],
   "source": []
  }
 ],
 "metadata": {
  "kernelspec": {
   "display_name": "Python 3 (ipykernel)",
   "language": "python",
   "name": "python3"
  },
  "language_info": {
   "codemirror_mode": {
    "name": "ipython",
    "version": 3
   },
   "file_extension": ".py",
   "mimetype": "text/x-python",
   "name": "python",
   "nbconvert_exporter": "python",
   "pygments_lexer": "ipython3",
   "version": "3.12.7"
  }
 },
 "nbformat": 4,
 "nbformat_minor": 5
}
